{
 "cells": [
  {
   "cell_type": "code",
   "execution_count": null,
   "metadata": {
    "collapsed": false
   },
   "outputs": [],
   "source": [
    "from netCDF4 import Dataset                     # For reading data\n",
    "import matplotlib.pyplot as plt                 # For plotting\n",
    "import numpy.ma as ma\n",
    "# Place figures within document\n",
    "%pylab inline\n",
    "pylab.rcParams['figure.figsize'] = (18.0, 10.0) # Large figures"
   ]
  },
  {
   "cell_type": "code",
   "execution_count": null,
   "metadata": {
    "collapsed": false
   },
   "outputs": [],
   "source": [
    "# Load data\n",
    "layerVolumeAverageFile = Dataset('../example-datasets/layer_volume_weighted_averages.all.nc');\n",
    "nTime = len(layerVolumeAverageFile.dimensions['Time']);\n",
    "nOceanRegions = len(layerVolumeAverageFile.dimensions['nOceanRegionsTmp']);\n",
    "nVertLevels = len(layerVolumeAverageFile.dimensions['nVertLevels']);\n",
    "k=range(nVertLevels,0,-1);\n",
    "timeInDays=range(0,nTime,1);\n",
    "print 'nTime: ', nTime;\n",
    "print 'nVertLevels: ', nVertLevels;                                         \n",
    "print 'nOceanRegions: ', nOceanRegions;"
   ]
  },
  {
   "cell_type": "code",
   "execution_count": null,
   "metadata": {
    "collapsed": false
   },
   "outputs": [],
   "source": [
    "iRegion = 4;\n",
    "\n",
    "referenceLayerProfile = layerVolumeAverageFile.variables['avgLayerThickness'][0,iRegion,:];\n",
    "avgLayerThickness = layerVolumeAverageFile.variables['avgLayerThickness'][:,iRegion,:];\n",
    "avgLayerTemperature = layerVolumeAverageFile.variables['avgLayerTemperature'][:,iRegion,:];\n",
    "avgLayerArea = layerVolumeAverageFile.variables['avgLayerArea'][:,iRegion,:];\n",
    "sumLayerMaskValue = layerVolumeAverageFile.variables['sumLayerMaskValue'][:,iRegion,:];\n",
    "xtime = layerVolumeAverageFile.variables['xtime'][:,:];\n",
    "print 'number of dimensions in temperatureProfile: ', avgLayerTemperature.ndim\n",
    "print 'size of temperatureProfile: ', avgLayerTemperature.shape\n",
    "print 'xtime: ', xtime.shape\n",
    "\n",
    "zMid = np.cumsum(referenceLayerProfile) - 0.5*referenceLayerProfile[0];\n",
    "zMid = -1.0 * zMid;\n",
    "plt.contourf(timeInDays, zMid, avgLayerTemperature.T)\n",
    "plt.colorbar();\n",
    "\n",
    "print 'number of dimensions in avgLayerTemperature: ', avgLayerTemperature.ndim\n",
    "print 'size of temperatureProfile: ', avgLayerTemperature.shape\n",
    "print 'size of zMid: ', zMid.size"
   ]
  },
  {
   "cell_type": "code",
   "execution_count": null,
   "metadata": {
    "collapsed": false
   },
   "outputs": [],
   "source": [
    "reference_density = 1000.0;  # kg m^{-3}\n",
    "specific_heat_of_water = 3990.0;  # J kg^{-1} C^{-1}\n",
    "avgLayerVolume = numpy.multiply(avgLayerThickness,avgLayerArea);   # m^{-3}\n",
    "avgLayerHeatContent = reference_density * specific_heat_of_water * numpy.multiply(avgLayerTemperature, avgLayerVolume);\n",
    "totalHeatContentByLayer = np.cumsum(avgLayerHeatContent, axis=1);\n",
    "totalHeatContent = totalHeatContentByLayer[:,nVertLevels-1];\n",
    "plt.contourf(timeInDays, zMid, totalHeatContentByLayer.T)\n",
    "plt.plot(timeInDays, totalHeatContent);\n",
    "print avgLayerThickness.shape\n",
    "print avgLayerVolume.shape\n",
    "print totalHeatContentByLayer.shape\n",
    "print totalHeatContent.shape"
   ]
  },
  {
   "cell_type": "code",
   "execution_count": null,
   "metadata": {
    "collapsed": false
   },
   "outputs": [],
   "source": [
    "iTime = 0;\n",
    "for iRegion in range(0,nOceanRegions):\n",
    "    avgLayerBruntVaisalaFreqTop = layerVolumeAverageFile.variables['avgLayerBruntVaisalaFreqTop'][iTime,iRegion,:];\n",
    "    layerProfile = layerVolumeAverageFile.variables['avgLayerThickness'][iTime,iRegion,:];\n",
    "    zMid = np.cumsum(layerProfile) - 0.5*layerProfile[0]\n",
    "    zMid = -1.0 * zMid\n",
    "    plt.plot(avgLayerBruntVaisalaFreqTop,zMid,linewidth=3);\n",
    "    plt.xlabel('avgLayerBruntVaisalaFreqTop (s^{-2})', fontsize=18); plt.ylabel('z-position (m)', fontsize=18);\n",
    "    plt.legend(['Arctic', 'Equatorial +/- 15', 'Southern Ocean', 'Nino 3', 'Nino 4', 'Nino 3.4', 'Global'], loc='lower right');\n",
    "    plt.axis([1.0e-8, 5.0e-4, -500, 0])"
   ]
  },
  {
   "cell_type": "code",
   "execution_count": null,
   "metadata": {
    "collapsed": true
   },
   "outputs": [],
   "source": []
  },
  {
   "cell_type": "code",
   "execution_count": null,
   "metadata": {
    "collapsed": true
   },
   "outputs": [],
   "source": []
  }
 ],
 "metadata": {
  "kernelspec": {
   "display_name": "Python 2",
   "language": "python",
   "name": "python2"
  },
  "language_info": {
   "codemirror_mode": {
    "name": "ipython",
    "version": 2
   },
   "file_extension": ".py",
   "mimetype": "text/x-python",
   "name": "python",
   "nbconvert_exporter": "python",
   "pygments_lexer": "ipython2",
   "version": "2.7.11"
  }
 },
 "nbformat": 4,
 "nbformat_minor": 0
}
