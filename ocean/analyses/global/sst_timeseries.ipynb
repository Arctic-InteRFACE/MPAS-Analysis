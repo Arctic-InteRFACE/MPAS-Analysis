{
 "cells": [
  {
   "cell_type": "code",
   "execution_count": null,
   "metadata": {
    "collapsed": false
   },
   "outputs": [],
   "source": [
    "import os\n",
    "import subprocess\n",
    "from netCDF4 import Dataset\n",
    "from matplotlib.colors import LogNorm\n",
    "from mpas_xarray import preprocess_mpas, preprocess_mpas_timeSeriesStats, remove_repeated_time_index\n",
    "import matplotlib.pyplot as plt\n",
    "from matplotlib.patches import Rectangle\n",
    "#from iotasks import timeit_context\n",
    "import numpy as np\n",
    "import numpy.ma as ma\n",
    "import xarray as xr\n",
    "import pandas as pd\n",
    "import datetime\n",
    "from netCDF4 import Dataset as netcdf_dataset\n",
    "\n",
    "try:\n",
    "    get_ipython()\n",
    "    # Place figures within document\n",
    "    %pylab inline\n",
    "    %matplotlib inline\n",
    "\n",
    "    #indir       = \"/scratch2/scratchdirs/tang30/ACME_simulations/20160428.A_WCYCL1850.ne30_oEC.edison.alpha5_00/run\"\n",
    "    #casename    = \"20160428.A_WCYCL1850.ne30_oEC.edison.alpha5_00\"\n",
    "    indir       = \"/scratch1/scratchdirs/golaz/ACME_simulations/20160520.A_WCYCL1850.ne30_oEC.edison.alpha6_01/run\"\n",
    "    casename    = \"20160520.A_WCYCL1850.ne30_oEC.edison.alpha6_01\"\n",
    "    #indir       = \"/scratch2/scratchdirs/tang30/ACME_simulations/20160428.A_WCYCL2000.ne30_oEC.edison.alpha5_00/run\"\n",
    "    #casename = \"20160428.A_WCYCL2000.ne30_oEC.edison.alpha5_00\"\n",
    "    ##indir       = \"/lustre/scratch1/turquoise/milena/ACME/cases/T62_oRRS30to10_GIAF_02/run\"\n",
    "    ##casename    = \"T62_oRRS30to10_GIAF_02\"\n",
    "    plots_dir   = \"plots\"\n",
    "    yr_offset = 1849\n",
    "    #yr_offset = 1999\n",
    "    compare_with_model = \"true\"\n",
    "    indir_model_tocompare = \"/global/project/projectdirs/acme/ACMEv0_lowres/B1850C5_ne30_v0.4/ocn/postprocessing/\"\n",
    "    casename_model_tocompare = \"B1850C5_ne30_v0.4\"\n",
    "    #indir_model_tocompare = \"/global/project/projectdirs/acme/ACMEv0_highres/b1850c5_acmev0_highres/ocn/postprocessing/\"\n",
    "    ##indir_model_tocompare = \"/usr/projects/climate/milena/ACMEv0_highres/b1850c5_acmev0_highres/ocn/postprocessing/\"\n",
    "    #casename_model_tocompare = \"b1850c5_acmev0_highres\"\n",
    "except:\n",
    "    import argparse\n",
    "    parser = argparse.ArgumentParser(description=\"Compute Ocean Heat Content (OHC)\")\n",
    "    parser.add_argument(\"--indir\", dest = \"indir\", required=True,\n",
    "        help = \"full path to main model data directory\")\n",
    "    parser.add_argument(\"-c\", \"--casename\", dest = \"casename\", required=True,\n",
    "        help = \"casename of the run\")\n",
    "    parser.add_argument(\"--plots_dir\", dest = \"plots_dir\", required=True,\n",
    "        help = \"full path to plot directory\")\n",
    "    parser.add_argument(\"--year_offset\", dest = \"yr_offset\", required=True,\n",
    "        help = \"year offset (1849 for pre-industrial runs, 1999 for present-day runs, 0 for transient runs)\")\n",
    "    parser.add_argument(\"--compare_with_model\", dest = \"compare_with_model\", required=True,\n",
    "        default = \"true\", choices = [\"true\",\"false\"],\n",
    "        help = \"logic flag to enable comparison with other model\")\n",
    "    parser.add_argument(\"--indir_model_tocompare\", dest = \"indir_model_tocompare\", required=False,\n",
    "        help = \"full path to model_tocompare data directory\")\n",
    "    parser.add_argument(\"--casename_model_tocompare\", dest = \"casename_model_tocompare\", required=False,\n",
    "        help = \"casename of the run to compare\")\n",
    "    args = parser.parse_args()\n",
    "    indir     = args.indir\n",
    "    casename  = args.casename\n",
    "    plots_dir = args.plots_dir\n",
    "    yr_offset = int(args.yr_offset)\n",
    "    compare_with_model = args.compare_with_model\n",
    "    if compare_with_model == \"true\":\n",
    "        indir_model_tocompare = args.indir_model_tocompare\n",
    "        casename_model_tocompare = args.casename_model_tocompare\n",
    "        \n",
    "# Checks on directory/files existence:\n",
    "if os.path.isdir(\"%s\" % indir) != True:\n",
    "    raise SystemExit(\"Model directory %s not found. Exiting...\" % indir)\n",
    "if compare_with_model == \"true\":\n",
    "    if os.path.isdir(\"%s\" % indir_model_tocompare) != True:\n",
    "        raise SystemExit(\"Model_tocompare directory %s not found. Exiting...\" % indir_model_tocompare)"
   ]
  },
  {
   "cell_type": "code",
   "execution_count": null,
   "metadata": {
    "collapsed": false
   },
   "outputs": [],
   "source": [
    "# Some plotting rules\n",
    "axis_font = {'size':'16'}    \n",
    "title_font = {'size':'18', 'color':'black', 'weight':'normal'}"
   ]
  },
  {
   "cell_type": "code",
   "execution_count": null,
   "metadata": {
    "collapsed": false
   },
   "outputs": [],
   "source": [
    "# Define/read in general variables\n",
    "print \"  Load SST data...\"\n",
    "#infiles = \"\".join([indir,'/am.mpas-o.timeSeriesStats.????-??*nc'])\n",
    "infiles = \"\".join([indir,'/am.mpas-o.timeSeriesStats.00[0-6]?-??*nc'])\n",
    "#infiles2 = \"\".join([indir,'/am.mpas-o.surfaceAreaWeightedAverages.????-??*nc'])\n",
    "\n",
    "# Load data:\n",
    "ds = xr.open_mfdataset(infiles,preprocess=lambda x: preprocess_mpas_timeSeriesStats(x, yearoffset=yr_offset, \\\n",
    "                        timestr='time_avg_daysSinceStartOfSim',                                              \\\n",
    "                        onlyvars=['time_avg_avgValueWithinOceanRegion_avgSurfaceTemperature']))\n",
    "#                        timestr='timeSeriesStats_avg_daysSinceStartOfSim_1',                                 \\\n",
    "#                        onlyvars=['timeSeriesStats_avg_avgValueWithinOceanRegion_1_avgSurfaceTemperature']))\n",
    "ds = remove_repeated_time_index(ds)\n",
    "#ds2 = xr.open_mfdataset(infiles2,preprocess=lambda x: preprocess_mpas(x, yearoffset=yr_offset))\n",
    "#ds2 = remove_repeated_time_index(ds2)\n",
    "\n",
    "# Number of points over which to compute moving average (e.g., for monthly\n",
    "# output, N_movavg=12 corresponds to a 12-month moving average window)\n",
    "N_movavg = 12\n",
    "#N_movavg = 1\n",
    "\n",
    "SST_obs_HadSST = []"
   ]
  },
  {
   "cell_type": "code",
   "execution_count": null,
   "metadata": {
    "collapsed": false
   },
   "outputs": [],
   "source": [
    "SSTregions = ds.time_avg_avgValueWithinOceanRegion_avgSurfaceTemperature\n",
    "#SSTregions = ds.timeSeriesStats_avg_avgValueWithinOceanRegion_1_avgSurfaceTemperature\n",
    "\n",
    "#SSTregions2 = ds2.avgSurfaceTemperature\n",
    "#SSTregions[:,6].plot()\n",
    "#SSTregions2[:,6].plot()"
   ]
  },
  {
   "cell_type": "code",
   "execution_count": null,
   "metadata": {
    "collapsed": true
   },
   "outputs": [],
   "source": [
    "def timeseries_analysis_plot(dsvalue1,dsvalue2,N,title,xlabel,ylabel,figname):\n",
    "    \n",
    "    plt.figure(figsize=(15,6), dpi=300)\n",
    "    #dsvalue.plot.line('k-')\n",
    "    ax1 = pd.Series.rolling(dsvalue1.to_pandas(),N,center=True).mean().plot(style='r-',lw=1.2)\n",
    "    if len(dsvalue2):\n",
    "        ax2 = pd.Series.rolling(dsvalue2.to_pandas(),N,center=True).mean().plot(style='b-',lw=1.2)\n",
    "    \n",
    "    if (title != None):\n",
    "        plt.title(title, **title_font)\n",
    "    if (xlabel != None):\n",
    "        plt.xlabel(xlabel, **axis_font)\n",
    "    if (ylabel != None):\n",
    "        plt.ylabel(ylabel, **axis_font)\n",
    "    if (figname != None):\n",
    "        plt.savefig(figname)"
   ]
  },
  {
   "cell_type": "code",
   "execution_count": null,
   "metadata": {
    "collapsed": true
   },
   "outputs": [],
   "source": [
    "year_start = (pd.to_datetime(ds.Time.min().values)).year\n",
    "year_end   = (pd.to_datetime(ds.Time.max().values)).year\n",
    "time_start = datetime.datetime(year_start,1,1)\n",
    "time_end   = datetime.datetime(year_end,12,31)\n",
    "#time_start = pd.to_datetime(ds.Time.min().values)\n",
    "#time_end   = pd.to_datetime(ds.Time.max().values)\n",
    "#print pd.to_datetime(ds.Time.min().values),pd.to_datetime(ds.Time.max().values)"
   ]
  },
  {
   "cell_type": "code",
   "execution_count": null,
   "metadata": {
    "collapsed": false
   },
   "outputs": [],
   "source": [
    "# Load data and make plot for every region\n",
    "\n",
    "print \"  Make plots...\"\n",
    "#regions = [\"global\",\"atl\",\"pac\",\"ind\",\"so\"]\n",
    "#plot_title = [\"Global Ocean\",\"Atlantic Ocean\",\"Pacific Ocean\",\"Indian Ocean\",\"Southern Ocean\"]\n",
    "regions = [\"global\"]\n",
    "plot_title = [\"Global Ocean\"]\n",
    "#iregions =\n",
    "iregions = [6] # current 'global'\n",
    "\n",
    "for iregion in range(len(iregions)):\n",
    "\n",
    "    title = plot_title[iregion]\n",
    "    #title = \"\".join([\"SST, \",title,\", %s (r-), HadSST data (b-)\" % casename])\n",
    "    title = \"\".join([\"SST, \",title,\", %s (r-)\" % casename])\n",
    "    #xlabel = \"time\"\n",
    "    xlabel = \"\"\n",
    "    ylabel = \"[$^\\circ$ C]\"\n",
    "    if compare_with_model == \"true\":\n",
    "        figname = \"%s/sst_%s_%s_%s.png\" % (plots_dir,regions[iregion],casename,casename_model_tocompare)\n",
    "    else:\n",
    "        figname = \"%s/sst_%s_%s.png\" % (plots_dir,regions[iregion],casename)\n",
    "    \n",
    "    SST = SSTregions[:,iregions[iregion]]\n",
    "    \n",
    "    if compare_with_model == \"true\":\n",
    "        # load in other model run data\n",
    "        #infiles_model_tocompare = \"\".join([indir_model_tocompare,'OHC',regions[iregion],'.',casename_model_tocompare,'.year*.nc'])\n",
    "        infiles_model_tocompare = \"\".join([indir_model_tocompare,'/SST.',casename_model_tocompare,'.year*.nc'])\n",
    "        ds_model_tocompare = xr.open_mfdataset(infiles_model_tocompare,preprocess=lambda x: preprocess_mpas(x, yearoffset=yr_offset))\n",
    "        ds_model_tocompare = remove_repeated_time_index(ds_model_tocompare)\n",
    "        ds_model_tocompare_tslice = ds_model_tocompare.sel(Time=slice(time_start,time_end))\n",
    "        SST_model_tocompare = ds_model_tocompare_tslice.SST\n",
    "        title = \"\".join([title,\"\\n %s (b-)\" % casename_model_tocompare])\n",
    "        timeseries_analysis_plot(SST,SST_model_tocompare,N_movavg,title,xlabel,ylabel,figname)\n",
    "    else:\n",
    "        timeseries_analysis_plot(SST,[],N_movavg,title,xlabel,ylabel,figname)\n",
    "    \n",
    "##    if compare_with_obs == \"true\":\n",
    "##        if regions[iregion] == \"global_65N-65S\":\n",
    "##            # load in observational data set\n",
    "##            ohc_obs = []\n",
    "##            title = \"\".join([title,\" (r), observations (k)\"])\n",
    "##            timeseries_analysis_multiplot(ohc_700m,ohc_2000m,ohc_btm,ohc_obs,[],[],N_movavg,title,xlabel,ylabel,figname)\n",
    "##        else:\n",
    "##            timeseries_analysis_plot(ohc_700m,ohc_2000m,ohc_btm,N_movavg,title,xlabel,ylabel,figname)\n",
    "#    if compare_with_obs == \"false\" and compare_with_model == \"false\":\n",
    "#        timeseries_analysis_plot(ohc_700m,ohc_2000m,ohc_btm,N_movavg,title,xlabel,ylabel,figname)"
   ]
  },
  {
   "cell_type": "code",
   "execution_count": null,
   "metadata": {
    "collapsed": true
   },
   "outputs": [],
   "source": []
  }
 ],
 "metadata": {
  "kernelspec": {
   "display_name": "Python 2",
   "language": "python",
   "name": "python2"
  },
  "language_info": {
   "codemirror_mode": {
    "name": "ipython",
    "version": 2
   },
   "file_extension": ".py",
   "mimetype": "text/x-python",
   "name": "python",
   "nbconvert_exporter": "python",
   "pygments_lexer": "ipython2",
   "version": "2.7.11"
  }
 },
 "nbformat": 4,
 "nbformat_minor": 0
}
