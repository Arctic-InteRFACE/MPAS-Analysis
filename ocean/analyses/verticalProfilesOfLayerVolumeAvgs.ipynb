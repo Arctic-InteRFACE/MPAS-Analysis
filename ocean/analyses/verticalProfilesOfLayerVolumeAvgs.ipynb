{
 "cells": [
  {
   "cell_type": "code",
   "execution_count": null,
   "metadata": {
    "collapsed": false
   },
   "outputs": [],
   "source": [
    "from netCDF4 import Dataset                     # For reading data\n",
    "import matplotlib.pyplot as plt                 # For plotting\n",
    "import numpy.ma as ma\n",
    "# Place figures within document\n",
    "%pylab inline\n",
    "pylab.rcParams['figure.figsize'] = (18.0, 10.0) # Large figures"
   ]
  },
  {
   "cell_type": "code",
   "execution_count": null,
   "metadata": {
    "collapsed": false
   },
   "outputs": [],
   "source": [
    "# Load data\n",
    "layerVolumeAverageFile = Dataset('../example-datasets/layer_volume_weighted_averages.all.nc')\n",
    "#print layerVolumeAverageFile\n",
    "nTime = len(layerVolumeAverageFile.dimensions['Time'])\n",
    "nOceanRegions = len(layerVolumeAverageFile.dimensions['nOceanRegionsTmp'])\n",
    "nVertLevels = len(layerVolumeAverageFile.dimensions['nVertLevels'])\n",
    "k=range(nVertLevels,0,-1)\n",
    "print 'nTime: ', nTime\n",
    "print 'nVertLevels: ', nVertLevels\n",
    "print 'nOceanRegions: ', nOceanRegions\n",
    "\n",
    "temperatureProfile = layerVolumeAverageFile.variables['avgLayerTemperature'][:,:,:]\n",
    "print 'number of dimensions in temperatureProfile: ', temperatureProfile.ndim\n",
    "print 'size of temperatureProfile: ', temperatureProfile.shape"
   ]
  },
  {
   "cell_type": "code",
   "execution_count": null,
   "metadata": {
    "collapsed": false
   },
   "outputs": [],
   "source": [
    "iTime = 5;\n",
    "for iRegion in range(0,nOceanRegions):\n",
    "    layerProfile = layerVolumeAverageFile.variables['avgLayerThickness'][iTime,iRegion,:];\n",
    "    zMid = np.cumsum(layerProfile) - 0.5*layerProfile[0]\n",
    "    zMid = -1.0 * zMid\n",
    "    temperatureProfile = layerVolumeAverageFile.variables['avgLayerTemperature'][iTime,iRegion,:];\n",
    "    plt.plot(temperatureProfile,zMid,linewidth=3);\n",
    "    plt.xlabel('temperature (C)', fontsize=18); plt.ylabel('z-position (m)', fontsize=18);\n",
    "    plt.legend(['Arctic', 'Equatorial +/- 15', 'Southern Ocean', 'Nino 3', 'Nino 4', 'Nino 3.4', 'Global'], loc='lower right');"
   ]
  },
  {
   "cell_type": "code",
   "execution_count": null,
   "metadata": {
    "collapsed": false
   },
   "outputs": [],
   "source": [
    "iTime = 0;\n",
    "for iRegion in range(0,nOceanRegions):\n",
    "    salinityProfile = layerVolumeAverageFile.variables['avgLayerSalinity'][iTime,iRegion,:];\n",
    "    layerProfile = layerVolumeAverageFile.variables['avgLayerThickness'][iTime,iRegion,:];\n",
    "    zMid = np.cumsum(layerProfile) - 0.5*layerProfile[0]\n",
    "    zMid = -1.0 * zMid\n",
    "    plt.plot(salinityProfile,zMid,linewidth=3);\n",
    "    plt.xlabel('salinity (PSU)', fontsize=18); plt.ylabel('z-position (m)', fontsize=18);\n",
    "    plt.legend(['Arctic', 'Equatorial +/- 15', 'Southern Ocean', 'Nino 3', 'Nino 4', 'Nino 3.4', 'Global'], loc='best');"
   ]
  },
  {
   "cell_type": "code",
   "execution_count": null,
   "metadata": {
    "collapsed": false
   },
   "outputs": [],
   "source": [
    "iTime = 0;\n",
    "for iRegion in range(0,nOceanRegions):\n",
    "    avgLayerBruntVaisalaFreqTop = layerVolumeAverageFile.variables['avgLayerBruntVaisalaFreqTop'][iTime,iRegion,:];\n",
    "    layerProfile = layerVolumeAverageFile.variables['avgLayerThickness'][iTime,iRegion,:];\n",
    "    zMid = np.cumsum(layerProfile) - 0.5*layerProfile[0]\n",
    "    zMid = -1.0 * zMid\n",
    "    plt.plot(avgLayerBruntVaisalaFreqTop,zMid,linewidth=3);\n",
    "    plt.xlabel('avgLayerBruntVaisalaFreqTop (s^{-2})', fontsize=18); plt.ylabel('z-position (m)', fontsize=18);\n",
    "    plt.legend(['Arctic', 'Equatorial +/- 15', 'Southern Ocean', 'Nino 3', 'Nino 4', 'Nino 3.4', 'Global'], loc='lower right');\n",
    "    plt.axis([1.0e-8, 5.0e-4, -500, 0])"
   ]
  },
  {
   "cell_type": "code",
   "execution_count": null,
   "metadata": {
    "collapsed": true
   },
   "outputs": [],
   "source": []
  }
 ],
 "metadata": {
  "kernelspec": {
   "display_name": "Python 2",
   "language": "python",
   "name": "python2"
  },
  "language_info": {
   "codemirror_mode": {
    "name": "ipython",
    "version": 2
   },
   "file_extension": ".py",
   "mimetype": "text/x-python",
   "name": "python",
   "nbconvert_exporter": "python",
   "pygments_lexer": "ipython2",
   "version": "2.7.11"
  }
 },
 "nbformat": 4,
 "nbformat_minor": 0
}
